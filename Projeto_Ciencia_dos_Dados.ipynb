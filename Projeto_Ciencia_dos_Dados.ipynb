{
 "cells": [
  {
   "cell_type": "code",
   "execution_count": 40,
   "metadata": {
    "collapsed": true
   },
   "outputs": [],
   "source": [
    "import pandas as pd \n",
    "import numpy as np \n",
    "import scipy as scp \n",
    "\n",
    "from bs4 import BeautifulSoup \n",
    "import requests as rq \n",
    "import re\n",
    "\n",
    "from selenium import webdriver\n",
    "\n",
    "import platform"
   ]
  },
  {
   "cell_type": "code",
   "execution_count": 62,
   "metadata": {},
   "outputs": [],
   "source": [
    "lista_Links_Tabela = []\n",
    "if(platform.system() == 'Windows'):\n",
    "    browser = webdriver.Chrome(executable_path=\"../2017-2-projeto-wildcats/chromer/chromedriver.exe\")\n",
    "else:\n",
    "    browser = webdriver.Chrome()\n",
    "url = \"https://www.reclameaqui.com.br/ranking/\"\n",
    "browser.get(url)\n",
    "boxes_rankings = browser.find_elements_by_xpath('//div[@class=\"box-gray\"]')\n",
    "for box in boxes_rankings:\n",
    "    lista_Empresas_Ranking =box.find_elements_by_xpath('.//li[@class=\"ng-scope\"]')\n",
    "    #titulo_box = box.find_element_by_xpath(\"//h2[@class='ng-binding']\")\n",
    "    titulo=box.find_element_by_tag_name('h2')\n",
    "    for empresa_no_ranking in lista_Empresas_Ranking:\n",
    "        empresa = empresa_no_ranking.find_element_by_xpath('.//a[@class=\"business-name ng-binding ng-scope\"]')\n",
    "        link = empresa.get_attribute(\"href\")\n",
    "        lista_Links_Tabela.append([titulo.text, link])"
   ]
  },
  {
   "cell_type": "code",
   "execution_count": null,
   "metadata": {
    "collapsed": true
   },
   "outputs": [],
   "source": []
  }
 ],
 "metadata": {
  "kernelspec": {
   "display_name": "Python 3",
   "language": "python",
   "name": "python3"
  },
  "language_info": {
   "codemirror_mode": {
    "name": "ipython",
    "version": 3
   },
   "file_extension": ".py",
   "mimetype": "text/x-python",
   "name": "python",
   "nbconvert_exporter": "python",
   "pygments_lexer": "ipython3",
   "version": "3.6.3"
  }
 },
 "nbformat": 4,
 "nbformat_minor": 2
}
